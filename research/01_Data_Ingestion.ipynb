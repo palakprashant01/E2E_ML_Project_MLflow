{
 "cells": [
  {
   "cell_type": "code",
   "execution_count": 1,
   "metadata": {},
   "outputs": [],
   "source": [
    "import os"
   ]
  },
  {
   "cell_type": "code",
   "execution_count": 2,
   "metadata": {},
   "outputs": [
    {
     "data": {
      "text/plain": [
       "'/Users/palakprashant/E2E_ML_Project_MLflow/research'"
      ]
     },
     "execution_count": 2,
     "metadata": {},
     "output_type": "execute_result"
    }
   ],
   "source": [
    "%pwd"
   ]
  },
  {
   "cell_type": "code",
   "execution_count": 3,
   "metadata": {},
   "outputs": [],
   "source": [
    "os.chdir(\"../\") #going back 1 folder"
   ]
  },
  {
   "cell_type": "code",
   "execution_count": 4,
   "metadata": {},
   "outputs": [
    {
     "data": {
      "text/plain": [
       "'/Users/palakprashant/E2E_ML_Project_MLflow'"
      ]
     },
     "execution_count": 4,
     "metadata": {},
     "output_type": "execute_result"
    }
   ],
   "source": [
    "%pwd"
   ]
  },
  {
   "cell_type": "code",
   "execution_count": 5,
   "metadata": {},
   "outputs": [],
   "source": [
    "from dataclasses import dataclass\n",
    "from pathlib import Path\n",
    "\n",
    "@dataclass(frozen = True)\n",
    "class DataIngestionConfiguration:\n",
    "    root_directory: Path\n",
    "    source_URL: str\n",
    "    local_data: Path\n",
    "    unzip_directory: Path"
   ]
  },
  {
   "cell_type": "code",
   "execution_count": 6,
   "metadata": {},
   "outputs": [],
   "source": [
    "from ml_proj.constants import *\n",
    "from ml_proj.utils.common import read_yaml, create_directories"
   ]
  },
  {
   "cell_type": "code",
   "execution_count": 21,
   "metadata": {},
   "outputs": [],
   "source": [
    "class ConfigManager:\n",
    "    def __init__(\n",
    "            self,\n",
    "            config_filepath = config_file,\n",
    "            params_filepath = params_file,\n",
    "            schema_filepath = schema_file):\n",
    "        \n",
    "        self.config = read_yaml(config_filepath)\n",
    "        self.params = read_yaml(params_filepath)\n",
    "        self.schema = read_yaml(schema_filepath)\n",
    "\n",
    "        create_directories([self.config.artifacts_source])\n",
    "\n",
    "    def get_data_ingestion_configuration(self) -> DataIngestionConfiguration:\n",
    "        configuration = self.config.data_ingestion\n",
    "        create_directories([configuration.root_directory])\n",
    "\n",
    "        data_ingestion_configuration = DataIngestionConfiguration(\n",
    "            root_directory= configuration.root_directory,\n",
    "            source_URL= configuration.source_URL,\n",
    "            local_data= configuration.local_data,\n",
    "            unzip_directory=configuration.unzip_directory\n",
    "        )\n",
    "        return data_ingestion_configuration"
   ]
  },
  {
   "cell_type": "code",
   "execution_count": 22,
   "metadata": {},
   "outputs": [],
   "source": [
    "import os\n",
    "import urllib.request as request #to retrieve and download data from the URL\n",
    "import zipfile #to unzip data\n",
    "from ml_proj import logger\n",
    "from ml_proj.utils.common import size\n"
   ]
  },
  {
   "cell_type": "code",
   "execution_count": null,
   "metadata": {},
   "outputs": [],
   "source": [
    "class DataIngestion:\n",
    "    def __init__(self, config: DataIngestionConfiguration):\n",
    "        self.config = config\n",
    "    \n",
    "    def download_data(self):\n",
    "        if not os.path.exists(self.config.local_data):\n",
    "            filename, headers = request.urlretrieve(\n",
    "                url = self.config.source_URL,\n",
    "                filename = self.config.local_data\n",
    "            )\n",
    "            logger.info(f\"{filename} download with following info: \\n{headers}\")\n",
    "        else:\n",
    "            logger.info(f\"File already exists of size: {size(Path(self.config.local_data))}\")\n",
    "    \n",
    "    def extract_zip(self):\n",
    "        #This function extracts the zip file into the data directory with None return type\n",
    "        unzip_path = self.config.unzip_directory\n",
    "        os.makedirs(unzip_path, exist_ok=True)\n",
    "        with zipfile.ZipFile(self.config.local_data, 'r') as zip_reference:\n",
    "            zip_reference.extractall(unzip_path)"
   ]
  },
  {
   "cell_type": "code",
   "execution_count": null,
   "metadata": {},
   "outputs": [
    {
     "name": "stdout",
     "output_type": "stream",
     "text": [
      "[2024-11-06 17:05:14,442: INFO: common: yaml file: src/ml_proj/config/config.yaml loaded successfully.]\n",
      "[2024-11-06 17:05:14,443: INFO: common: yaml file: params.yaml loaded successfully.]\n",
      "[2024-11-06 17:05:14,444: INFO: common: yaml file: schema.yaml loaded successfully.]\n",
      "[2024-11-06 17:05:14,445: INFO: common: Created directory here: artifacts]\n",
      "[2024-11-06 17:05:14,445: INFO: common: Created directory here: artifacts/data_ingestion]\n",
      "[2024-11-06 17:05:14,923: INFO: 1830773562: artifacts/data_ingestion/data.zip download with following info: \n",
      "Connection: close\n",
      "Content-Length: 23329\n",
      "Cache-Control: max-age=300\n",
      "Content-Security-Policy: default-src 'none'; style-src 'unsafe-inline'; sandbox\n",
      "Content-Type: application/zip\n",
      "ETag: \"c69888a4ae59bc5a893392785a938ccd4937981c06ba8a9d6a21aa52b4ab5b6e\"\n",
      "Strict-Transport-Security: max-age=31536000\n",
      "X-Content-Type-Options: nosniff\n",
      "X-Frame-Options: deny\n",
      "X-XSS-Protection: 1; mode=block\n",
      "X-GitHub-Request-Id: 7FC8:1E0811:47F213:4DD9A0:672BE81A\n",
      "Accept-Ranges: bytes\n",
      "Date: Wed, 06 Nov 2024 22:05:14 GMT\n",
      "Via: 1.1 varnish\n",
      "X-Served-By: cache-nyc-kteb1890055-NYC\n",
      "X-Cache: MISS\n",
      "X-Cache-Hits: 0\n",
      "X-Timer: S1730930715.808088,VS0,VE86\n",
      "Vary: Authorization,Accept-Encoding,Origin\n",
      "Access-Control-Allow-Origin: *\n",
      "Cross-Origin-Resource-Policy: cross-origin\n",
      "X-Fastly-Request-ID: bdf64f93ec963da0f9e5bb15a9766adf79022e57\n",
      "Expires: Wed, 06 Nov 2024 22:10:14 GMT\n",
      "Source-Age: 0\n",
      "\n",
      "]\n"
     ]
    }
   ],
   "source": [
    "#Update pipeline\n",
    "try:\n",
    "    configuration = ConfigManager()\n",
    "    data_ingestion_configuration = configuration.get_data_ingestion_configuration()\n",
    "    data_ingestion = DataIngestion(config = data_ingestion_configuration)\n",
    "    data_ingestion.download_data()\n",
    "    data_ingestion.extract_zip()\n",
    "except Exception as e:\n",
    "    raise e"
   ]
  },
  {
   "cell_type": "code",
   "execution_count": null,
   "metadata": {},
   "outputs": [],
   "source": []
  },
  {
   "cell_type": "code",
   "execution_count": null,
   "metadata": {},
   "outputs": [],
   "source": []
  }
 ],
 "metadata": {
  "kernelspec": {
   "display_name": "mlproj",
   "language": "python",
   "name": "python3"
  },
  "language_info": {
   "codemirror_mode": {
    "name": "ipython",
    "version": 3
   },
   "file_extension": ".py",
   "mimetype": "text/x-python",
   "name": "python",
   "nbconvert_exporter": "python",
   "pygments_lexer": "ipython3",
   "version": "3.8.20"
  }
 },
 "nbformat": 4,
 "nbformat_minor": 2
}
