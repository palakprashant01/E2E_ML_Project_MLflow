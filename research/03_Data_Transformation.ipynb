{
 "cells": [
  {
   "cell_type": "code",
   "execution_count": 1,
   "metadata": {},
   "outputs": [],
   "source": [
    "import os"
   ]
  },
  {
   "cell_type": "code",
   "execution_count": 2,
   "metadata": {},
   "outputs": [
    {
     "data": {
      "text/plain": [
       "'/Users/palakprashant/E2E_ML_Project_MLflow/research'"
      ]
     },
     "execution_count": 2,
     "metadata": {},
     "output_type": "execute_result"
    }
   ],
   "source": [
    "%pwd"
   ]
  },
  {
   "cell_type": "code",
   "execution_count": 3,
   "metadata": {},
   "outputs": [],
   "source": [
    "os.chdir(\"../\")"
   ]
  },
  {
   "cell_type": "code",
   "execution_count": 4,
   "metadata": {},
   "outputs": [
    {
     "data": {
      "text/plain": [
       "'/Users/palakprashant/E2E_ML_Project_MLflow'"
      ]
     },
     "execution_count": 4,
     "metadata": {},
     "output_type": "execute_result"
    }
   ],
   "source": [
    "%pwd"
   ]
  },
  {
   "cell_type": "code",
   "execution_count": 5,
   "metadata": {},
   "outputs": [],
   "source": [
    "#Prepare the entity\n",
    "#Prepare the entity\n",
    "from dataclasses import dataclass\n",
    "from pathlib import Path\n",
    "\n",
    "@dataclass(frozen = True)\n",
    "class DataTransformationConfiguration:\n",
    "    root_directory: Path\n",
    "    data_path: Path"
   ]
  },
  {
   "cell_type": "code",
   "execution_count": 18,
   "metadata": {},
   "outputs": [],
   "source": [
    "#Update configuration manager\n",
    "from ml_proj.constants import *\n",
    "from ml_proj.utils.common import read_yaml, create_directories\n",
    "class ConfigurationManager:\n",
    "    def __init__(\n",
    "            self,\n",
    "            config_filepath = config_file,\n",
    "            params_filepath = params_file,\n",
    "            schema_filepath = schema_file):\n",
    "        \n",
    "        self.config = read_yaml(config_filepath)\n",
    "        self.params = read_yaml(params_filepath)\n",
    "        self.schema = read_yaml(schema_filepath)\n",
    "\n",
    "        create_directories([self.config.artifacts_source])\n",
    "\n",
    "    def get_data_transformation_configuration(self) -> DataTransformationConfiguration:\n",
    "        configuration = self.config.data_transformation\n",
    "        \n",
    "        # Correct the call to create_directories\n",
    "        create_directories([configuration.root_directory])\n",
    "\n",
    "        data_transformation_configuration = DataTransformationConfiguration(\n",
    "            root_directory=configuration.root_directory,\n",
    "            data_path=configuration.data_path,\n",
    "        )\n",
    "        return data_transformation_configuration\n",
    "        \n",
    "    \n",
    "    \n"
   ]
  },
  {
   "cell_type": "code",
   "execution_count": 19,
   "metadata": {},
   "outputs": [],
   "source": [
    "#Create components\n",
    "import os\n",
    "from ml_proj import logger\n",
    "from sklearn.model_selection import train_test_split\n",
    "import pandas as pd\n",
    "\n",
    "class DataTransformation:\n",
    "    def __init__(self, config: DataTransformationConfiguration):\n",
    "        self.config = config\n",
    "\n",
    "        #This data is already clean, else we would need to perform all kinds of EDA in ML cycle along with different data transformation techniques like Scaler, PCA, etc.\n",
    "\n",
    "    def train_test_split_data(self):\n",
    "        data = pd.read_csv(self.config.data_path)\n",
    "\n",
    "        #Split data into training and testing data: using 75-25 ratio\n",
    "        train, test = train_test_split(data)\n",
    "\n",
    "        train.to_csv(os.path.join(self.config.root_directory, \"train.csv\"), index = False)\n",
    "        test.to_csv(os.path.join(self.config.root_directory, \"test.csv\"), index = False)\n",
    "\n",
    "        logger.info(\"The data has been split into training and test data sets\")\n",
    "        logger.info(train.shape)\n",
    "        logger.info(test.shape)\n",
    "\n",
    "        print(train.shape)\n",
    "        print(test.shape)\n",
    "        \n",
    "\n"
   ]
  },
  {
   "cell_type": "code",
   "execution_count": 20,
   "metadata": {},
   "outputs": [
    {
     "name": "stdout",
     "output_type": "stream",
     "text": [
      "[2024-11-07 15:46:22,777: INFO: common: yaml file: src/ml_proj/config/config.yaml loaded successfully.]\n",
      "[2024-11-07 15:46:22,779: INFO: common: yaml file: params.yaml loaded successfully.]\n",
      "[2024-11-07 15:46:22,781: INFO: common: yaml file: schema.yaml loaded successfully.]\n",
      "[2024-11-07 15:46:22,782: INFO: common: Created directory here: artifacts]\n",
      "[2024-11-07 15:46:22,783: INFO: common: Created directory here: artifacts/data_transformation]\n",
      "[2024-11-07 15:46:22,818: INFO: 2171740101: The data has been split into training and test data sets]\n",
      "[2024-11-07 15:46:22,819: INFO: 2171740101: (1199, 12)]\n",
      "[2024-11-07 15:46:22,819: INFO: 2171740101: (400, 12)]\n",
      "(1199, 12)\n",
      "(400, 12)\n"
     ]
    }
   ],
   "source": [
    "#Define pipeline\n",
    "try:\n",
    "    config = ConfigurationManager()\n",
    "    data_transformation_configuration = config.get_data_transformation_configuration()\n",
    "    data_transformation = DataTransformation(config = data_transformation_configuration)\n",
    "    data_transformation.train_test_split_data()\n",
    "except Exception as e:\n",
    "    raise e"
   ]
  },
  {
   "cell_type": "code",
   "execution_count": null,
   "metadata": {},
   "outputs": [],
   "source": []
  },
  {
   "cell_type": "code",
   "execution_count": null,
   "metadata": {},
   "outputs": [],
   "source": []
  }
 ],
 "metadata": {
  "kernelspec": {
   "display_name": "mlproj",
   "language": "python",
   "name": "python3"
  },
  "language_info": {
   "codemirror_mode": {
    "name": "ipython",
    "version": 3
   },
   "file_extension": ".py",
   "mimetype": "text/x-python",
   "name": "python",
   "nbconvert_exporter": "python",
   "pygments_lexer": "ipython3",
   "version": "3.8.20"
  }
 },
 "nbformat": 4,
 "nbformat_minor": 2
}
